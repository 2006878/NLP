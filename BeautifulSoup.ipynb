{
  "nbformat": 4,
  "nbformat_minor": 0,
  "metadata": {
    "colab": {
      "provenance": [],
      "authorship_tag": "ABX9TyOwUVlXjnKLA/XlOn9UXwSF"
    },
    "kernelspec": {
      "name": "python3",
      "display_name": "Python 3"
    },
    "language_info": {
      "name": "python"
    }
  },
  "cells": [
    {
      "cell_type": "code",
      "execution_count": 58,
      "metadata": {
        "colab": {
          "base_uri": "https://localhost:8080/"
        },
        "id": "aqi8wXJP8dYA",
        "outputId": "0ccad7a5-5b1f-4e28-c124-0ded71f5260b"
      },
      "outputs": [
        {
          "output_type": "stream",
          "name": "stdout",
          "text": [
            "\n",
            "\n",
            "\n",
            "\n",
            "WOMEN IN SPORTS\n",
            "\n",
            "\n",
            "NIKA SCHWINDEN\n",
            "\n",
            "Nika Schwinden is a mother, psychologist, a Jiu Jitsu professor and a consecrated athlete.\n",
            "She started training Jiu Jitsu with 28 years old and after a lot of hard work she won her first World Championship in 2013. \n",
            "Gathering her knowledge as a psychologist and all skills acquired on her mat’s journey, Nika has started to teach Jiu Jitsu.\n",
            "In 2014, pioneering, Nika began her work dedicated to women, creating an exclusively female team (NKBJJ). Sometime later, she realized another dream, Nika opened her first Jiu Jitsu school.\n",
            "As a psychologist and as a Jiu Jitsu professor, Nika has always worked on the female empowerment as an important transformational tool.\n",
            "Nika Schwinden Main Titles:\n",
            "3x World Champion Master IBJJF\n",
            "4x Pan American Champion\n",
            "9x South American Champion\n",
            "9x Brazilian Champion\n",
            "\n",
            "https://graciebarracuritiba.com.br/\n",
            "\n",
            "\n",
            "http://www.jiujitsuparamulheres.com.br/index.html\n",
            "\n",
            "\n",
            "https://www.facebook.com/nikabjj/\n",
            "\n",
            "\n",
            "https://www.instagram.com/nikabjj/\n",
            "\n",
            "\n",
            "\n",
            "\n",
            "\n",
            "\n",
            "\n",
            "ARTICLES\n",
            "\n",
            "\n",
            "\n",
            "Our future, we build it! (English)\n",
            "/\n",
            "O futuro, somos nós que construímos! (Português)\n",
            "\n",
            "October 2019\n",
            "\n",
            "\n",
            "\n",
            "\n",
            "\n",
            "\n",
            "\n",
            "\n"
          ]
        }
      ],
      "source": [
        ", Tag\n",
        "# 1. Importação das funções Request e urlopen da biblioteca urllib.request:\n",
        "from urllib.request import Request, urlopen\n",
        "\n",
        "# 2. Utilização das funções para ler uma notícia de um portal de notícias:\n",
        "Link = Request('https://jjgf.com/jjgf-editorials-womeninsports',headers={'User-Agent': 'Mozilla/5.0'})\n",
        "Pagina = urlopen (Link).read().decode('utf-8', 'ignore')\n",
        "\n",
        "# 3. Utilização do BeautifulSoap para verificar na página da notícia apenas os tópicos essenciais:\n",
        "from bs4 import BeautifulSoup\n",
        "soup = BeautifulSoup(Pagina, \"lxml\")\n",
        "# print(soup)\n",
        "texto = soup.find(id=\"home\").text\n",
        "print(texto)"
      ]
    },
    {
      "cell_type": "code",
      "source": [
        "!pip install nltk"
      ],
      "metadata": {
        "colab": {
          "base_uri": "https://localhost:8080/"
        },
        "id": "dhXrkPCqDl__",
        "outputId": "4e718a73-9b9a-4b5a-fa28-8aa47a6b228e"
      },
      "execution_count": 59,
      "outputs": [
        {
          "output_type": "stream",
          "name": "stdout",
          "text": [
            "Requirement already satisfied: nltk in /usr/local/lib/python3.10/dist-packages (3.8.1)\n",
            "Requirement already satisfied: click in /usr/local/lib/python3.10/dist-packages (from nltk) (8.1.7)\n",
            "Requirement already satisfied: joblib in /usr/local/lib/python3.10/dist-packages (from nltk) (1.3.2)\n",
            "Requirement already satisfied: regex>=2021.8.3 in /usr/local/lib/python3.10/dist-packages (from nltk) (2023.6.3)\n",
            "Requirement already satisfied: tqdm in /usr/local/lib/python3.10/dist-packages (from nltk) (4.66.1)\n"
          ]
        }
      ]
    },
    {
      "cell_type": "code",
      "source": [
        "# 4. Tokenização com a biblioteca NLTK e divisão de sentenças e palavras:\n",
        "from nltk.tokenize import word_tokenize\n",
        "from nltk.tokenize import sent_tokenize\n",
        "import nltk\n",
        "nltk.download('punkt')\n",
        "nltk.download('stopwords')\n",
        "sentencas = sent_tokenize(texto)\n",
        "palavras = word_tokenize(texto.lower())\n",
        "# 5. Eliminação das stopwords da lista de palavras:\n",
        "from nltk.corpus import stopwords\n",
        "from string import punctuation\n",
        "stopwords = set (stopwords.words('portuguese') + list(punctuation))\n",
        "palavras_sem_stopwords = [palavras for palavras in palavras if palavras not in stopwords]"
      ],
      "metadata": {
        "colab": {
          "base_uri": "https://localhost:8080/"
        },
        "id": "s56WW4kjDMUa",
        "outputId": "0433e859-909a-45a5-c9d5-f994240fc735"
      },
      "execution_count": 60,
      "outputs": [
        {
          "output_type": "stream",
          "name": "stderr",
          "text": [
            "[nltk_data] Downloading package punkt to /root/nltk_data...\n",
            "[nltk_data]   Package punkt is already up-to-date!\n",
            "[nltk_data] Downloading package stopwords to /root/nltk_data...\n",
            "[nltk_data]   Package stopwords is already up-to-date!\n"
          ]
        }
      ]
    },
    {
      "cell_type": "code",
      "source": [
        "print(palavras_sem_stopwords)"
      ],
      "metadata": {
        "colab": {
          "base_uri": "https://localhost:8080/"
        },
        "id": "vqfynsWyE7yC",
        "outputId": "5b7a032f-016d-493d-aebb-bfb48b9f393b"
      },
      "execution_count": 61,
      "outputs": [
        {
          "output_type": "stream",
          "name": "stdout",
          "text": [
            "['women', 'in', 'sports', 'nika', 'schwinden', 'nika', 'schwinden', 'is', 'mother', 'psychologist', 'jiu', 'jitsu', 'professor', 'and', 'consecrated', 'athlete', 'she', 'started', 'training', 'jiu', 'jitsu', 'with', '28', 'years', 'old', 'and', 'after', 'lot', 'of', 'hard', 'work', 'she', 'won', 'her', 'first', 'world', 'championship', 'in', '2013.', 'gathering', 'her', 'knowledge', 'psychologist', 'and', 'all', 'skills', 'acquired', 'on', 'her', 'mat', '’', 's', 'journey', 'nika', 'has', 'started', 'to', 'teach', 'jiu', 'jitsu', 'in', '2014', 'pioneering', 'nika', 'began', 'her', 'work', 'dedicated', 'to', 'women', 'creating', 'an', 'exclusively', 'female', 'team', 'nkbjj', 'sometime', 'later', 'she', 'realized', 'another', 'dream', 'nika', 'opened', 'her', 'first', 'jiu', 'jitsu', 'school', 'psychologist', 'and', 'jiu', 'jitsu', 'professor', 'nika', 'has', 'always', 'worked', 'on', 'the', 'female', 'empowerment', 'an', 'important', 'transformational', 'tool', 'nika', 'schwinden', 'main', 'titles', '3x', 'world', 'champion', 'master', 'ibjjf', '4x', 'pan', 'american', 'champion', '9x', 'south', 'american', 'champion', '9x', 'brazilian', 'champion', 'https', '//graciebarracuritiba.com.br/', 'http', '//www.jiujitsuparamulheres.com.br/index.html', 'https', '//www.facebook.com/nikabjj/', 'https', '//www.instagram.com/nikabjj/', 'articles', 'our', 'future', 'we', 'build', 'it', 'english', 'futuro', 'construímos', 'português', 'october', '2019']\n"
          ]
        }
      ]
    },
    {
      "cell_type": "code",
      "source": [
        "# 6. Criação da distribuição de frequência com a função FreqDist:\n",
        "from nltk.probability import FreqDist\n",
        "frequencia = FreqDist (palavras_sem_stopwords)\n",
        "\n",
        "# 7. Criação de escala para as sentenças, de acordo com as palavras importantes que se repetem nelas:\n",
        "from collections import defaultdict\n",
        "sentencas_importantes = defaultdict(int)\n",
        "\n",
        "# 8. Criação de looping para coletar as estatísticas de cada sentença:\n",
        "for i, sentenca in enumerate(sentencas):\n",
        "  for palavra in word_tokenize(sentenca.lower()):\n",
        "    if palavra in frequencia:\n",
        "      sentencas_importantes[i] += frequencia[palavra]\n",
        "\n",
        "print(sentencas_importantes)\n"
      ],
      "metadata": {
        "colab": {
          "base_uri": "https://localhost:8080/"
        },
        "id": "nf2ZViPgGuGk",
        "outputId": "20e62ef8-fc50-418e-b94c-ee895548d5a1"
      },
      "execution_count": 62,
      "outputs": [
        {
          "output_type": "stream",
          "name": "stdout",
          "text": [
            "defaultdict(<class 'int'>, {0: 49, 1: 47, 2: 52, 3: 33, 4: 34, 5: 41, 6: 65, 7: 3, 8: 3})\n"
          ]
        }
      ]
    },
    {
      "cell_type": "code",
      "source": [
        "# 9. Seleção das sentenças mais importantes do dicionário:\n",
        "from heapq import nlargest\n",
        "idx_sentencas_importantes = nlargest(4, sentencas_importantes, sentencas_importantes.get)\n",
        "\n",
        "# 10. Criação do resumo/sumário:\n",
        "for i in sorted(idx_sentencas_importantes):\n",
        "  print(sentencas[i])\n"
      ],
      "metadata": {
        "colab": {
          "base_uri": "https://localhost:8080/"
        },
        "id": "q1PBKfwfIKxz",
        "outputId": "393e5560-c579-454b-85a6-1c36e6f4d617"
      },
      "execution_count": 63,
      "outputs": [
        {
          "output_type": "stream",
          "name": "stdout",
          "text": [
            "\n",
            "\n",
            "\n",
            "\n",
            "WOMEN IN SPORTS\n",
            "\n",
            "\n",
            "NIKA SCHWINDEN\n",
            "\n",
            "Nika Schwinden is a mother, psychologist, a Jiu Jitsu professor and a consecrated athlete.\n",
            "She started training Jiu Jitsu with 28 years old and after a lot of hard work she won her first World Championship in 2013.\n",
            "Gathering her knowledge as a psychologist and all skills acquired on her mat’s journey, Nika has started to teach Jiu Jitsu.\n",
            "Nika Schwinden Main Titles:\n",
            "3x World Champion Master IBJJF\n",
            "4x Pan American Champion\n",
            "9x South American Champion\n",
            "9x Brazilian Champion\n",
            "\n",
            "https://graciebarracuritiba.com.br/\n",
            "\n",
            "\n",
            "http://www.jiujitsuparamulheres.com.br/index.html\n",
            "\n",
            "\n",
            "https://www.facebook.com/nikabjj/\n",
            "\n",
            "\n",
            "https://www.instagram.com/nikabjj/\n",
            "\n",
            "\n",
            "\n",
            "\n",
            "\n",
            "\n",
            "\n",
            "ARTICLES\n",
            "\n",
            "\n",
            "\n",
            "Our future, we build it!\n"
          ]
        }
      ]
    }
  ]
}