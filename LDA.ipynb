{
  "nbformat": 4,
  "nbformat_minor": 0,
  "metadata": {
    "colab": {
      "provenance": [],
      "authorship_tag": "ABX9TyNxgw55+U8RVKFHYhnbAJhW"
    },
    "kernelspec": {
      "name": "python3",
      "display_name": "Python 3"
    },
    "language_info": {
      "name": "python"
    }
  },
  "cells": [
    {
      "cell_type": "code",
      "execution_count": 1,
      "metadata": {
        "id": "kFu4bLsa0Kl0"
      },
      "outputs": [],
      "source": [
        "document = \"Human machine interface for lab abc computer applications\"\n",
        "text_corpus = [\n",
        "\"Human machine interface for lab abc computer applications\", \"A survey of user opinion of computer system response time\",\n",
        "\"The EPS user interface management system\", \"System and human system engineering testing of EPS\", \"Relation of user perceived response time to error measurement\",\n",
        "\"The generation of random binary unordered trees\", \"The intersection graph of paths in trees\", \"Graph minors IV Widths of trees and well quasi ordering\", \"Graph minors A survey\",\n",
        "]"
      ]
    },
    {
      "cell_type": "code",
      "source": [
        "# Crie um conjunto de palavras frequentes\n",
        "stoplist = set('for a of the and to in'.split(' '))\n",
        "# Coloque em minúscula cada documento, divida-o por espaço em branco e filtre as palavras-chave\n",
        "texts = [[word for word in document.lower().split() if word not in stoplist]\n",
        "  for document in text_corpus]\n",
        "# Conte frequências de palavras\n",
        "from collections import defaultdict\n",
        "frequency = defaultdict(int)\n",
        "for text in texts:\n",
        "  for token in text:\n",
        "    frequency[token] += 1\n",
        "# Mantenha apenas as palavras que aparecerem mais de uma vez\n",
        "  processed_corpus = [[token for token in text if frequency[token] > 1] for text in texts]\n",
        "  print(processed_corpus)\n"
      ],
      "metadata": {
        "colab": {
          "base_uri": "https://localhost:8080/"
        },
        "id": "jJDGgdKA0hrO",
        "outputId": "b4abf098-0549-43d2-af46-28579874bdc8"
      },
      "execution_count": 6,
      "outputs": [
        {
          "output_type": "stream",
          "name": "stdout",
          "text": [
            "[[], [], [], [], [], [], [], [], []]\n",
            "[['computer'], ['computer'], [], [], [], [], [], [], []]\n",
            "[['interface', 'computer'], ['user', 'computer', 'system'], ['user', 'interface', 'system'], ['system', 'system'], ['user'], [], [], [], []]\n",
            "[['human', 'interface', 'computer'], ['user', 'computer', 'system'], ['eps', 'user', 'interface', 'system'], ['system', 'human', 'system', 'eps'], ['user'], [], [], [], []]\n",
            "[['human', 'interface', 'computer'], ['user', 'computer', 'system', 'response', 'time'], ['eps', 'user', 'interface', 'system'], ['system', 'human', 'system', 'eps'], ['user', 'response', 'time'], [], [], [], []]\n",
            "[['human', 'interface', 'computer'], ['user', 'computer', 'system', 'response', 'time'], ['eps', 'user', 'interface', 'system'], ['system', 'human', 'system', 'eps'], ['user', 'response', 'time'], [], [], [], []]\n",
            "[['human', 'interface', 'computer'], ['user', 'computer', 'system', 'response', 'time'], ['eps', 'user', 'interface', 'system'], ['system', 'human', 'system', 'eps'], ['user', 'response', 'time'], ['trees'], ['trees'], ['trees'], []]\n",
            "[['human', 'interface', 'computer'], ['user', 'computer', 'system', 'response', 'time'], ['eps', 'user', 'interface', 'system'], ['system', 'human', 'system', 'eps'], ['user', 'response', 'time'], ['trees'], ['graph', 'trees'], ['graph', 'trees'], ['graph']]\n",
            "[['human', 'interface', 'computer'], ['survey', 'user', 'computer', 'system', 'response', 'time'], ['eps', 'user', 'interface', 'system'], ['system', 'human', 'system', 'eps'], ['user', 'response', 'time'], ['trees'], ['graph', 'trees'], ['graph', 'minors', 'trees'], ['graph', 'minors', 'survey']]\n"
          ]
        }
      ]
    },
    {
      "cell_type": "code",
      "source": [
        "from gensim import corpora\n",
        "dictionary = corpora.Dictionary(processed_corpus)\n",
        "print(dictionary)\n"
      ],
      "metadata": {
        "colab": {
          "base_uri": "https://localhost:8080/"
        },
        "id": "rzEHySbV2hX1",
        "outputId": "c52cba65-dd26-48e9-b738-f2f300159a32"
      },
      "execution_count": 8,
      "outputs": [
        {
          "output_type": "stream",
          "name": "stdout",
          "text": [
            "Dictionary<12 unique tokens: ['computer', 'human', 'interface', 'response', 'survey']...>\n"
          ]
        }
      ]
    },
    {
      "cell_type": "code",
      "source": [
        "print(dictionary.token2id)"
      ],
      "metadata": {
        "colab": {
          "base_uri": "https://localhost:8080/"
        },
        "id": "ZKqMI0612sF-",
        "outputId": "f1495e70-eb7e-413f-b51e-5f3ba449158a"
      },
      "execution_count": 9,
      "outputs": [
        {
          "output_type": "stream",
          "name": "stdout",
          "text": [
            "{'computer': 0, 'human': 1, 'interface': 2, 'response': 3, 'survey': 4, 'system': 5, 'time': 6, 'user': 7, 'eps': 8, 'trees': 9, 'graph': 10, 'minors': 11}\n"
          ]
        }
      ]
    },
    {
      "cell_type": "code",
      "source": [
        "bow_corpus = [dictionary.doc2bow(text) for text in processed_corpus]\n",
        "print(bow_corpus)"
      ],
      "metadata": {
        "colab": {
          "base_uri": "https://localhost:8080/"
        },
        "id": "M54SyfEY26Sf",
        "outputId": "ab4930b4-410f-4ed9-938d-afab9c57a233"
      },
      "execution_count": 10,
      "outputs": [
        {
          "output_type": "stream",
          "name": "stdout",
          "text": [
            "[[(0, 1), (1, 1), (2, 1)], [(0, 1), (3, 1), (4, 1), (5, 1), (6, 1), (7, 1)], [(2, 1), (5, 1), (7, 1), (8, 1)], [(1, 1), (5, 2), (8, 1)], [(3, 1), (6, 1), (7, 1)], [(9, 1)], [(9, 1), (10, 1)], [(9, 1), (10, 1), (11, 1)], [(4, 1), (10, 1), (11, 1)]]\n"
          ]
        }
      ]
    },
    {
      "cell_type": "code",
      "source": [
        "from gensim import models # treinar o modelo\n",
        "tfidf = models.TfidfModel(bow_corpus)\n",
        "# transformar a cadeia \"menores de sistema ou system minors\"\n",
        "words = \"system minors\".lower().split()\n",
        "print(tfidf[dictionary.doc2bow(words)])"
      ],
      "metadata": {
        "colab": {
          "base_uri": "https://localhost:8080/"
        },
        "id": "0kMEAPLX3UWc",
        "outputId": "8d9d48fd-0ef6-4a3d-a6ab-276dbba067c6"
      },
      "execution_count": 11,
      "outputs": [
        {
          "output_type": "stream",
          "name": "stdout",
          "text": [
            "[(5, 0.5898341626740045), (11, 0.8075244024440723)]\n"
          ]
        }
      ]
    },
    {
      "cell_type": "code",
      "source": [
        "from gensim import similarities\n",
        "index = similarities.SparseMatrixSimilarity(tfidf[bow_corpus], num_features=12)\n",
        "query_document = 'system engineering'.split()\n",
        "query_bow = dictionary.doc2bow(query_document)\n",
        "sims = index[tfidf[query_bow]]\n",
        "print(list(enumerate(sims)))\n"
      ],
      "metadata": {
        "colab": {
          "base_uri": "https://localhost:8080/"
        },
        "id": "n9QSLzNV4Cpz",
        "outputId": "693ebd30-8d44-449e-882c-24aa41b58396"
      },
      "execution_count": 13,
      "outputs": [
        {
          "output_type": "stream",
          "name": "stdout",
          "text": [
            "[(0, 0.0), (1, 0.32448703), (2, 0.41707572), (3, 0.7184812), (4, 0.0), (5, 0.0), (6, 0.0), (7, 0.0), (8, 0.0)]\n"
          ]
        }
      ]
    },
    {
      "cell_type": "code",
      "source": [
        "for document_number, score in sorted(enumerate(sims), key=lambda x: x[1], reverse=True):\n",
        "  print(document_number, score)\n"
      ],
      "metadata": {
        "colab": {
          "base_uri": "https://localhost:8080/"
        },
        "id": "276BUC5V4r2d",
        "outputId": "f48be248-2d0f-43f1-efd6-fff052cc7e34"
      },
      "execution_count": 14,
      "outputs": [
        {
          "output_type": "stream",
          "name": "stdout",
          "text": [
            "3 0.7184812\n",
            "2 0.41707572\n",
            "1 0.32448703\n",
            "0 0.0\n",
            "4 0.0\n",
            "5 0.0\n",
            "6 0.0\n",
            "7 0.0\n",
            "8 0.0\n"
          ]
        }
      ]
    }
  ]
}